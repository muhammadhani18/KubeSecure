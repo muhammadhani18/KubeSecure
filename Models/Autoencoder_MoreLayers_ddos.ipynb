{
  "nbformat": 4,
  "nbformat_minor": 0,
  "metadata": {
    "colab": {
      "provenance": [],
      "gpuType": "T4"
    },
    "kernelspec": {
      "name": "python3",
      "display_name": "Python 3"
    },
    "language_info": {
      "name": "python"
    },
    "accelerator": "GPU"
  },
  "cells": [
    {
      "cell_type": "code",
      "source": [
        "!pip install keras"
      ],
      "metadata": {
        "colab": {
          "base_uri": "https://localhost:8080/"
        },
        "id": "aSWxYGmzl0bE",
        "outputId": "53c2f707-8dbb-4812-910f-d2d4498996ef"
      },
      "execution_count": 1,
      "outputs": [
        {
          "output_type": "stream",
          "name": "stdout",
          "text": [
            "Requirement already satisfied: keras in /usr/local/lib/python3.10/dist-packages (3.4.1)\n",
            "Requirement already satisfied: absl-py in /usr/local/lib/python3.10/dist-packages (from keras) (1.4.0)\n",
            "Requirement already satisfied: numpy in /usr/local/lib/python3.10/dist-packages (from keras) (1.26.4)\n",
            "Requirement already satisfied: rich in /usr/local/lib/python3.10/dist-packages (from keras) (13.8.0)\n",
            "Requirement already satisfied: namex in /usr/local/lib/python3.10/dist-packages (from keras) (0.0.8)\n",
            "Requirement already satisfied: h5py in /usr/local/lib/python3.10/dist-packages (from keras) (3.11.0)\n",
            "Requirement already satisfied: optree in /usr/local/lib/python3.10/dist-packages (from keras) (0.12.1)\n",
            "Requirement already satisfied: ml-dtypes in /usr/local/lib/python3.10/dist-packages (from keras) (0.4.0)\n",
            "Requirement already satisfied: packaging in /usr/local/lib/python3.10/dist-packages (from keras) (24.1)\n",
            "Requirement already satisfied: typing-extensions>=4.5.0 in /usr/local/lib/python3.10/dist-packages (from optree->keras) (4.12.2)\n",
            "Requirement already satisfied: markdown-it-py>=2.2.0 in /usr/local/lib/python3.10/dist-packages (from rich->keras) (3.0.0)\n",
            "Requirement already satisfied: pygments<3.0.0,>=2.13.0 in /usr/local/lib/python3.10/dist-packages (from rich->keras) (2.16.1)\n",
            "Requirement already satisfied: mdurl~=0.1 in /usr/local/lib/python3.10/dist-packages (from markdown-it-py>=2.2.0->rich->keras) (0.1.2)\n"
          ]
        }
      ]
    },
    {
      "cell_type": "code",
      "execution_count": 3,
      "metadata": {
        "id": "PqJUcPp0lCL6"
      },
      "outputs": [],
      "source": [
        "import pandas as pd\n",
        "import numpy as np\n",
        "from sklearn.model_selection import train_test_split\n",
        "from sklearn.preprocessing import MinMaxScaler\n",
        "from keras.models import Sequential\n",
        "from keras.layers import Dense, Dropout, BatchNormalization\n",
        "from keras.layers import LeakyReLU\n",
        "from keras.callbacks import EarlyStopping, ReduceLROnPlateau\n",
        "import matplotlib.pyplot as plt\n",
        "from sklearn.metrics import classification_report\n"
      ]
    },
    {
      "cell_type": "code",
      "source": [
        "# Load the dataset\n",
        "data = pd.read_csv('/content/sample_data/cicddos2019_dataset.csv')\n",
        "\n",
        "# Select relevant features and drop unnecessary columns (like IP addresses, ports, etc.)\n",
        "# Here, replace with actual relevant feature columns from your dataset\n",
        "data = data.drop(columns=['Flow ID', 'Source IP', 'Destination IP', 'Timestamp', 'Label'], errors='ignore')\n",
        "\n",
        "# data[\"Class\"]\n",
        "# Label Encoding: Convert BENIGN and DDoS into binary labels (0 for BENIGN, 1 for DDoS)\n",
        "labels = (data['Class'] != 'Benign').astype(int)  # DDoS = 1, BENIGN = 0\n",
        "\n",
        "data[\"Labels\"] = labels\n",
        "\n",
        "# Drop the Label column after encoding\n",
        "data = data.drop(columns=['Class'], errors='ignore')\n",
        "\n",
        "\n",
        "# Handle missing values by replacing them with zeros\n",
        "data.fillna(0, inplace=True)\n",
        "\n",
        "# Normalize the dataset using MinMaxScaler\n",
        "scaler = MinMaxScaler()\n",
        "data_scaled = scaler.fit_transform(data)\n",
        "\n",
        "# Split the data into normal (BENIGN) and DDoS attack data\n",
        "X_normal = data_scaled[labels == 0]\n",
        "X_ddos = data_scaled[labels == 1]\n",
        "\n",
        "print(len(X_normal))\n",
        "print(len(X_ddos))\n",
        "\n",
        "# Train-test split (Train the model only on normal traffic data)\n",
        "X_train, X_test = train_test_split(X_normal, test_size=0.2, random_state=42)\n"
      ],
      "metadata": {
        "colab": {
          "base_uri": "https://localhost:8080/"
        },
        "id": "0gMeTicSmBFh",
        "outputId": "0e6e3b74-a2f3-4752-e646-c35e72f6a24f"
      },
      "execution_count": 4,
      "outputs": [
        {
          "output_type": "stream",
          "name": "stdout",
          "text": [
            "97831\n",
            "333540\n"
          ]
        }
      ]
    },
    {
      "cell_type": "code",
      "source": [
        "# Build an Autoencoder model\n",
        "input_dim = X_train.shape[1]  # Number of features\n",
        "encoding_dim = 32  # Size of encoded layer\n",
        "\n",
        "autoencoder = Sequential()\n",
        "# Encoder\n",
        "autoencoder.add(Dense(encoding_dim, input_shape=(input_dim,)))\n",
        "autoencoder.add(LeakyReLU(alpha=0.2))\n",
        "autoencoder.add(BatchNormalization())\n",
        "autoencoder.add(Dense(int(encoding_dim / 2)))\n",
        "autoencoder.add(LeakyReLU(alpha=0.2))\n",
        "autoencoder.add(BatchNormalization())\n",
        "\n",
        "# Bottleneck\n",
        "autoencoder.add(Dense(int(encoding_dim / 4)))\n",
        "autoencoder.add(LeakyReLU(alpha=0.2))\n",
        "autoencoder.add(Dropout(0.2))\n",
        "\n",
        "# Decoder\n",
        "autoencoder.add(Dense(int(encoding_dim / 2)))\n",
        "autoencoder.add(LeakyReLU(alpha=0.2))\n",
        "autoencoder.add(BatchNormalization())\n",
        "autoencoder.add(Dense(encoding_dim))\n",
        "autoencoder.add(LeakyReLU(alpha=0.2))\n",
        "autoencoder.add(BatchNormalization())\n",
        "autoencoder.add(Dense(input_dim, activation='sigmoid'))\n",
        "\n",
        "autoencoder.compile(optimizer='adam', loss='mean_squared_error')\n",
        "\n",
        "# Implement early stopping and reduce learning rate on plateau\n",
        "early_stopping = EarlyStopping(monitor='val_loss', patience=10, restore_best_weights=True)\n",
        "reduce_lr = ReduceLROnPlateau(monitor='val_loss', factor=0.5, patience=5, min_lr=1e-5)\n",
        "\n",
        "\n",
        "# Train the autoencoder\n",
        "history = autoencoder.fit(X_train, X_train, epochs=50, batch_size=32, validation_split=0.2, shuffle=True)\n",
        "\n"
      ],
      "metadata": {
        "colab": {
          "base_uri": "https://localhost:8080/"
        },
        "id": "RtBIpJXuncf-",
        "outputId": "8a2a5e8f-13a5-4739-bb33-ad84e6abd082"
      },
      "execution_count": 5,
      "outputs": [
        {
          "output_type": "stream",
          "name": "stderr",
          "text": [
            "/usr/local/lib/python3.10/dist-packages/keras/src/layers/core/dense.py:87: UserWarning: Do not pass an `input_shape`/`input_dim` argument to a layer. When using Sequential models, prefer using an `Input(shape)` object as the first layer in the model instead.\n",
            "  super().__init__(activity_regularizer=activity_regularizer, **kwargs)\n",
            "/usr/local/lib/python3.10/dist-packages/keras/src/layers/activations/leaky_relu.py:41: UserWarning: Argument `alpha` is deprecated. Use `negative_slope` instead.\n",
            "  warnings.warn(\n"
          ]
        },
        {
          "output_type": "stream",
          "name": "stdout",
          "text": [
            "Epoch 1/50\n",
            "\u001b[1m1957/1957\u001b[0m \u001b[32m━━━━━━━━━━━━━━━━━━━━\u001b[0m\u001b[37m\u001b[0m \u001b[1m15s\u001b[0m 5ms/step - loss: 0.0619 - val_loss: 0.0017\n",
            "Epoch 2/50\n",
            "\u001b[1m1957/1957\u001b[0m \u001b[32m━━━━━━━━━━━━━━━━━━━━\u001b[0m\u001b[37m\u001b[0m \u001b[1m5s\u001b[0m 2ms/step - loss: 0.0026 - val_loss: 0.0013\n",
            "Epoch 3/50\n",
            "\u001b[1m1957/1957\u001b[0m \u001b[32m━━━━━━━━━━━━━━━━━━━━\u001b[0m\u001b[37m\u001b[0m \u001b[1m7s\u001b[0m 3ms/step - loss: 0.0020 - val_loss: 9.7872e-04\n",
            "Epoch 4/50\n",
            "\u001b[1m1957/1957\u001b[0m \u001b[32m━━━━━━━━━━━━━━━━━━━━\u001b[0m\u001b[37m\u001b[0m \u001b[1m10s\u001b[0m 3ms/step - loss: 0.0019 - val_loss: 8.9334e-04\n",
            "Epoch 5/50\n",
            "\u001b[1m1957/1957\u001b[0m \u001b[32m━━━━━━━━━━━━━━━━━━━━\u001b[0m\u001b[37m\u001b[0m \u001b[1m15s\u001b[0m 6ms/step - loss: 0.0017 - val_loss: 8.1467e-04\n",
            "Epoch 6/50\n",
            "\u001b[1m1957/1957\u001b[0m \u001b[32m━━━━━━━━━━━━━━━━━━━━\u001b[0m\u001b[37m\u001b[0m \u001b[1m15s\u001b[0m 3ms/step - loss: 0.0017 - val_loss: 8.0144e-04\n",
            "Epoch 7/50\n",
            "\u001b[1m1957/1957\u001b[0m \u001b[32m━━━━━━━━━━━━━━━━━━━━\u001b[0m\u001b[37m\u001b[0m \u001b[1m9s\u001b[0m 2ms/step - loss: 0.0016 - val_loss: 7.3418e-04\n",
            "Epoch 8/50\n",
            "\u001b[1m1957/1957\u001b[0m \u001b[32m━━━━━━━━━━━━━━━━━━━━\u001b[0m\u001b[37m\u001b[0m \u001b[1m7s\u001b[0m 3ms/step - loss: 0.0015 - val_loss: 7.2585e-04\n",
            "Epoch 9/50\n",
            "\u001b[1m1957/1957\u001b[0m \u001b[32m━━━━━━━━━━━━━━━━━━━━\u001b[0m\u001b[37m\u001b[0m \u001b[1m9s\u001b[0m 2ms/step - loss: 0.0015 - val_loss: 6.8100e-04\n",
            "Epoch 10/50\n",
            "\u001b[1m1957/1957\u001b[0m \u001b[32m━━━━━━━━━━━━━━━━━━━━\u001b[0m\u001b[37m\u001b[0m \u001b[1m7s\u001b[0m 3ms/step - loss: 0.0015 - val_loss: 6.3987e-04\n",
            "Epoch 11/50\n",
            "\u001b[1m1957/1957\u001b[0m \u001b[32m━━━━━━━━━━━━━━━━━━━━\u001b[0m\u001b[37m\u001b[0m \u001b[1m5s\u001b[0m 3ms/step - loss: 0.0015 - val_loss: 6.7764e-04\n",
            "Epoch 12/50\n",
            "\u001b[1m1957/1957\u001b[0m \u001b[32m━━━━━━━━━━━━━━━━━━━━\u001b[0m\u001b[37m\u001b[0m \u001b[1m7s\u001b[0m 3ms/step - loss: 0.0014 - val_loss: 6.3124e-04\n",
            "Epoch 13/50\n",
            "\u001b[1m1957/1957\u001b[0m \u001b[32m━━━━━━━━━━━━━━━━━━━━\u001b[0m\u001b[37m\u001b[0m \u001b[1m5s\u001b[0m 2ms/step - loss: 0.0014 - val_loss: 5.7315e-04\n",
            "Epoch 14/50\n",
            "\u001b[1m1957/1957\u001b[0m \u001b[32m━━━━━━━━━━━━━━━━━━━━\u001b[0m\u001b[37m\u001b[0m \u001b[1m7s\u001b[0m 3ms/step - loss: 0.0014 - val_loss: 6.3852e-04\n",
            "Epoch 15/50\n",
            "\u001b[1m1957/1957\u001b[0m \u001b[32m━━━━━━━━━━━━━━━━━━━━\u001b[0m\u001b[37m\u001b[0m \u001b[1m9s\u001b[0m 3ms/step - loss: 0.0014 - val_loss: 6.2386e-04\n",
            "Epoch 16/50\n",
            "\u001b[1m1957/1957\u001b[0m \u001b[32m━━━━━━━━━━━━━━━━━━━━\u001b[0m\u001b[37m\u001b[0m \u001b[1m6s\u001b[0m 3ms/step - loss: 0.0014 - val_loss: 6.3872e-04\n",
            "Epoch 17/50\n",
            "\u001b[1m1957/1957\u001b[0m \u001b[32m━━━━━━━━━━━━━━━━━━━━\u001b[0m\u001b[37m\u001b[0m \u001b[1m5s\u001b[0m 3ms/step - loss: 0.0014 - val_loss: 6.9502e-04\n",
            "Epoch 18/50\n",
            "\u001b[1m1957/1957\u001b[0m \u001b[32m━━━━━━━━━━━━━━━━━━━━\u001b[0m\u001b[37m\u001b[0m \u001b[1m5s\u001b[0m 3ms/step - loss: 0.0013 - val_loss: 6.2592e-04\n",
            "Epoch 19/50\n",
            "\u001b[1m1957/1957\u001b[0m \u001b[32m━━━━━━━━━━━━━━━━━━━━\u001b[0m\u001b[37m\u001b[0m \u001b[1m6s\u001b[0m 3ms/step - loss: 0.0013 - val_loss: 7.1599e-04\n",
            "Epoch 20/50\n",
            "\u001b[1m1957/1957\u001b[0m \u001b[32m━━━━━━━━━━━━━━━━━━━━\u001b[0m\u001b[37m\u001b[0m \u001b[1m9s\u001b[0m 3ms/step - loss: 0.0013 - val_loss: 6.9495e-04\n",
            "Epoch 21/50\n",
            "\u001b[1m1957/1957\u001b[0m \u001b[32m━━━━━━━━━━━━━━━━━━━━\u001b[0m\u001b[37m\u001b[0m \u001b[1m6s\u001b[0m 3ms/step - loss: 0.0013 - val_loss: 5.9986e-04\n",
            "Epoch 22/50\n",
            "\u001b[1m1957/1957\u001b[0m \u001b[32m━━━━━━━━━━━━━━━━━━━━\u001b[0m\u001b[37m\u001b[0m \u001b[1m6s\u001b[0m 3ms/step - loss: 0.0013 - val_loss: 6.3336e-04\n",
            "Epoch 23/50\n",
            "\u001b[1m1957/1957\u001b[0m \u001b[32m━━━━━━━━━━━━━━━━━━━━\u001b[0m\u001b[37m\u001b[0m \u001b[1m10s\u001b[0m 3ms/step - loss: 0.0013 - val_loss: 6.4734e-04\n",
            "Epoch 24/50\n",
            "\u001b[1m1957/1957\u001b[0m \u001b[32m━━━━━━━━━━━━━━━━━━━━\u001b[0m\u001b[37m\u001b[0m \u001b[1m6s\u001b[0m 3ms/step - loss: 0.0013 - val_loss: 7.0271e-04\n",
            "Epoch 25/50\n",
            "\u001b[1m1957/1957\u001b[0m \u001b[32m━━━━━━━━━━━━━━━━━━━━\u001b[0m\u001b[37m\u001b[0m \u001b[1m9s\u001b[0m 2ms/step - loss: 0.0013 - val_loss: 6.2639e-04\n",
            "Epoch 26/50\n",
            "\u001b[1m1957/1957\u001b[0m \u001b[32m━━━━━━━━━━━━━━━━━━━━\u001b[0m\u001b[37m\u001b[0m \u001b[1m7s\u001b[0m 3ms/step - loss: 0.0013 - val_loss: 6.6472e-04\n",
            "Epoch 27/50\n",
            "\u001b[1m1957/1957\u001b[0m \u001b[32m━━━━━━━━━━━━━━━━━━━━\u001b[0m\u001b[37m\u001b[0m \u001b[1m9s\u001b[0m 3ms/step - loss: 0.0013 - val_loss: 6.1557e-04\n",
            "Epoch 28/50\n",
            "\u001b[1m1957/1957\u001b[0m \u001b[32m━━━━━━━━━━━━━━━━━━━━\u001b[0m\u001b[37m\u001b[0m \u001b[1m6s\u001b[0m 3ms/step - loss: 0.0013 - val_loss: 6.4908e-04\n",
            "Epoch 29/50\n",
            "\u001b[1m1957/1957\u001b[0m \u001b[32m━━━━━━━━━━━━━━━━━━━━\u001b[0m\u001b[37m\u001b[0m \u001b[1m7s\u001b[0m 3ms/step - loss: 0.0012 - val_loss: 5.7561e-04\n",
            "Epoch 30/50\n",
            "\u001b[1m1957/1957\u001b[0m \u001b[32m━━━━━━━━━━━━━━━━━━━━\u001b[0m\u001b[37m\u001b[0m \u001b[1m9s\u001b[0m 3ms/step - loss: 0.0012 - val_loss: 7.1125e-04\n",
            "Epoch 31/50\n",
            "\u001b[1m1957/1957\u001b[0m \u001b[32m━━━━━━━━━━━━━━━━━━━━\u001b[0m\u001b[37m\u001b[0m \u001b[1m11s\u001b[0m 3ms/step - loss: 0.0012 - val_loss: 5.9237e-04\n",
            "Epoch 32/50\n",
            "\u001b[1m1957/1957\u001b[0m \u001b[32m━━━━━━━━━━━━━━━━━━━━\u001b[0m\u001b[37m\u001b[0m \u001b[1m5s\u001b[0m 2ms/step - loss: 0.0012 - val_loss: 6.6931e-04\n",
            "Epoch 33/50\n",
            "\u001b[1m1957/1957\u001b[0m \u001b[32m━━━━━━━━━━━━━━━━━━━━\u001b[0m\u001b[37m\u001b[0m \u001b[1m7s\u001b[0m 3ms/step - loss: 0.0012 - val_loss: 5.1737e-04\n",
            "Epoch 34/50\n",
            "\u001b[1m1957/1957\u001b[0m \u001b[32m━━━━━━━━━━━━━━━━━━━━\u001b[0m\u001b[37m\u001b[0m \u001b[1m5s\u001b[0m 2ms/step - loss: 0.0012 - val_loss: 6.2170e-04\n",
            "Epoch 35/50\n",
            "\u001b[1m1957/1957\u001b[0m \u001b[32m━━━━━━━━━━━━━━━━━━━━\u001b[0m\u001b[37m\u001b[0m \u001b[1m5s\u001b[0m 2ms/step - loss: 0.0012 - val_loss: 6.4468e-04\n",
            "Epoch 36/50\n",
            "\u001b[1m1957/1957\u001b[0m \u001b[32m━━━━━━━━━━━━━━━━━━━━\u001b[0m\u001b[37m\u001b[0m \u001b[1m7s\u001b[0m 3ms/step - loss: 0.0012 - val_loss: 5.7522e-04\n",
            "Epoch 37/50\n",
            "\u001b[1m1957/1957\u001b[0m \u001b[32m━━━━━━━━━━━━━━━━━━━━\u001b[0m\u001b[37m\u001b[0m \u001b[1m6s\u001b[0m 3ms/step - loss: 0.0012 - val_loss: 6.1067e-04\n",
            "Epoch 38/50\n",
            "\u001b[1m1957/1957\u001b[0m \u001b[32m━━━━━━━━━━━━━━━━━━━━\u001b[0m\u001b[37m\u001b[0m \u001b[1m6s\u001b[0m 3ms/step - loss: 0.0011 - val_loss: 5.8183e-04\n",
            "Epoch 39/50\n",
            "\u001b[1m1957/1957\u001b[0m \u001b[32m━━━━━━━━━━━━━━━━━━━━\u001b[0m\u001b[37m\u001b[0m \u001b[1m5s\u001b[0m 3ms/step - loss: 0.0012 - val_loss: 5.7198e-04\n",
            "Epoch 40/50\n",
            "\u001b[1m1957/1957\u001b[0m \u001b[32m━━━━━━━━━━━━━━━━━━━━\u001b[0m\u001b[37m\u001b[0m \u001b[1m10s\u001b[0m 3ms/step - loss: 0.0012 - val_loss: 5.8242e-04\n",
            "Epoch 41/50\n",
            "\u001b[1m1957/1957\u001b[0m \u001b[32m━━━━━━━━━━━━━━━━━━━━\u001b[0m\u001b[37m\u001b[0m \u001b[1m11s\u001b[0m 3ms/step - loss: 0.0012 - val_loss: 5.8760e-04\n",
            "Epoch 42/50\n",
            "\u001b[1m1957/1957\u001b[0m \u001b[32m━━━━━━━━━━━━━━━━━━━━\u001b[0m\u001b[37m\u001b[0m \u001b[1m5s\u001b[0m 2ms/step - loss: 0.0012 - val_loss: 5.6899e-04\n",
            "Epoch 43/50\n",
            "\u001b[1m1957/1957\u001b[0m \u001b[32m━━━━━━━━━━━━━━━━━━━━\u001b[0m\u001b[37m\u001b[0m \u001b[1m5s\u001b[0m 2ms/step - loss: 0.0012 - val_loss: 7.0817e-04\n",
            "Epoch 44/50\n",
            "\u001b[1m1957/1957\u001b[0m \u001b[32m━━━━━━━━━━━━━━━━━━━━\u001b[0m\u001b[37m\u001b[0m \u001b[1m7s\u001b[0m 3ms/step - loss: 0.0012 - val_loss: 5.1272e-04\n",
            "Epoch 45/50\n",
            "\u001b[1m1957/1957\u001b[0m \u001b[32m━━━━━━━━━━━━━━━━━━━━\u001b[0m\u001b[37m\u001b[0m \u001b[1m9s\u001b[0m 3ms/step - loss: 0.0011 - val_loss: 5.8033e-04\n",
            "Epoch 46/50\n",
            "\u001b[1m1957/1957\u001b[0m \u001b[32m━━━━━━━━━━━━━━━━━━━━\u001b[0m\u001b[37m\u001b[0m \u001b[1m6s\u001b[0m 3ms/step - loss: 0.0012 - val_loss: 6.7222e-04\n",
            "Epoch 47/50\n",
            "\u001b[1m1957/1957\u001b[0m \u001b[32m━━━━━━━━━━━━━━━━━━━━\u001b[0m\u001b[37m\u001b[0m \u001b[1m5s\u001b[0m 2ms/step - loss: 0.0012 - val_loss: 5.8987e-04\n",
            "Epoch 48/50\n",
            "\u001b[1m1957/1957\u001b[0m \u001b[32m━━━━━━━━━━━━━━━━━━━━\u001b[0m\u001b[37m\u001b[0m \u001b[1m6s\u001b[0m 3ms/step - loss: 0.0011 - val_loss: 5.8287e-04\n",
            "Epoch 49/50\n",
            "\u001b[1m1957/1957\u001b[0m \u001b[32m━━━━━━━━━━━━━━━━━━━━\u001b[0m\u001b[37m\u001b[0m \u001b[1m9s\u001b[0m 3ms/step - loss: 0.0011 - val_loss: 6.0753e-04\n",
            "Epoch 50/50\n",
            "\u001b[1m1957/1957\u001b[0m \u001b[32m━━━━━━━━━━━━━━━━━━━━\u001b[0m\u001b[37m\u001b[0m \u001b[1m7s\u001b[0m 3ms/step - loss: 0.0011 - val_loss: 5.8281e-04\n"
          ]
        }
      ]
    },
    {
      "cell_type": "code",
      "source": [
        "# Plot training vs validation loss\n",
        "plt.plot(history.history['loss'], label='Train Loss')\n",
        "plt.plot(history.history['val_loss'], label='Validation Loss')\n",
        "plt.legend()\n",
        "plt.show()"
      ],
      "metadata": {
        "colab": {
          "base_uri": "https://localhost:8080/",
          "height": 430
        },
        "id": "bWf8HCpDnjbY",
        "outputId": "b7a552d9-0e79-41df-ec53-34b1c72b5859"
      },
      "execution_count": 6,
      "outputs": [
        {
          "output_type": "display_data",
          "data": {
            "text/plain": [
              "<Figure size 640x480 with 1 Axes>"
            ],
            "image/png": "[encoded data removed]"
          },
          "metadata": {}
        }
      ]
    },
    {
      "cell_type": "code",
      "source": [
        "# Reconstruct the test data\n",
        "X_test_pred = autoencoder.predict(X_test)\n",
        "X_test_mse = np.mean(np.power(X_test - X_test_pred, 2), axis=1)\n",
        "\n",
        "# Set a dynamic threshold using a validation set\n",
        "threshold = np.percentile(X_test_mse, 95)\n",
        "print(f\"Reconstruction error threshold: {threshold}\")\n",
        "\n",
        "# Evaluate on DDoS data\n",
        "X_ddos_pred = autoencoder.predict(X_ddos)\n",
        "X_ddos_mse = np.mean(np.power(X_ddos - X_ddos_pred, 2), axis=1)\n",
        "\n",
        "# Classification based on reconstruction error\n",
        "y_test_pred = X_test_mse > threshold\n",
        "y_ddos_pred = X_ddos_mse > threshold\n",
        "\n",
        "# Print accuracy\n",
        "print(f\"Normal Traffic Detection Accuracy: {100 - np.mean(y_test_pred) * 100:.2f}%\")\n",
        "print(f\"DDoS Attack Detection Accuracy: {np.mean(y_ddos_pred) * 100:.2f}%\")\n",
        "\n",
        "# Classification report\n",
        "y_true = np.concatenate([np.zeros(len(X_test)), np.ones(len(X_ddos))])\n",
        "y_pred = np.concatenate([y_test_pred, y_ddos_pred])\n",
        "\n",
        "print(classification_report(y_true, y_pred, target_names=[\"BENIGN\", \"DDoS\"]))"
      ],
      "metadata": {
        "colab": {
          "base_uri": "https://localhost:8080/"
        },
        "id": "L88yDxmBnmz9",
        "outputId": "8c10258b-4f3f-4904-989e-b924865790df"
      },
      "execution_count": 7,
      "outputs": [
        {
          "output_type": "stream",
          "name": "stdout",
          "text": [
            "\u001b[1m612/612\u001b[0m \u001b[32m━━━━━━━━━━━━━━━━━━━━\u001b[0m\u001b[37m\u001b[0m \u001b[1m2s\u001b[0m 2ms/step\n",
            "Reconstruction error threshold: 0.0027356755794976165\n",
            "\u001b[1m10424/10424\u001b[0m \u001b[32m━━━━━━━━━━━━━━━━━━━━\u001b[0m\u001b[37m\u001b[0m \u001b[1m16s\u001b[0m 2ms/step\n",
            "Normal Traffic Detection Accuracy: 95.00%\n",
            "DDoS Attack Detection Accuracy: 100.00%\n",
            "              precision    recall  f1-score   support\n",
            "\n",
            "      BENIGN       1.00      0.95      0.97     19567\n",
            "        DDoS       1.00      1.00      1.00    333540\n",
            "\n",
            "    accuracy                           1.00    353107\n",
            "   macro avg       1.00      0.97      0.99    353107\n",
            "weighted avg       1.00      1.00      1.00    353107\n",
            "\n"
          ]
        }
      ]
    },
    {
      "cell_type": "code",
      "source": [],
      "metadata": {
        "id": "SLVlYfk7vcOT"
      },
      "execution_count": null,
      "outputs": []
    }
  ]
}