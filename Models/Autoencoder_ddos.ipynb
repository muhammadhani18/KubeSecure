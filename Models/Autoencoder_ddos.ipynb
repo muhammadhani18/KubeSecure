{
  "nbformat": 4,
  "nbformat_minor": 0,
  "metadata": {
    "colab": {
      "provenance": [],
      "gpuType": "T4"
    },
    "kernelspec": {
      "name": "python3",
      "display_name": "Python 3"
    },
    "language_info": {
      "name": "python"
    },
    "accelerator": "GPU"
  },
  "cells": [
    {
      "cell_type": "code",
      "source": [
        "!pip install keras"
      ],
      "metadata": {
        "colab": {
          "base_uri": "https://localhost:8080/"
        },
        "id": "aSWxYGmzl0bE",
        "outputId": "c41e2102-45b2-4ad5-f7b7-a1023f8271f2"
      },
      "execution_count": 9,
      "outputs": [
        {
          "output_type": "stream",
          "name": "stdout",
          "text": [
            "Requirement already satisfied: keras in /usr/local/lib/python3.10/dist-packages (3.4.1)\n",
            "Requirement already satisfied: absl-py in /usr/local/lib/python3.10/dist-packages (from keras) (1.4.0)\n",
            "Requirement already satisfied: numpy in /usr/local/lib/python3.10/dist-packages (from keras) (1.26.4)\n",
            "Requirement already satisfied: rich in /usr/local/lib/python3.10/dist-packages (from keras) (13.8.1)\n",
            "Requirement already satisfied: namex in /usr/local/lib/python3.10/dist-packages (from keras) (0.0.8)\n",
            "Requirement already satisfied: h5py in /usr/local/lib/python3.10/dist-packages (from keras) (3.11.0)\n",
            "Requirement already satisfied: optree in /usr/local/lib/python3.10/dist-packages (from keras) (0.12.1)\n",
            "Requirement already satisfied: ml-dtypes in /usr/local/lib/python3.10/dist-packages (from keras) (0.4.1)\n",
            "Requirement already satisfied: packaging in /usr/local/lib/python3.10/dist-packages (from keras) (24.1)\n",
            "Requirement already satisfied: typing-extensions>=4.5.0 in /usr/local/lib/python3.10/dist-packages (from optree->keras) (4.12.2)\n",
            "Requirement already satisfied: markdown-it-py>=2.2.0 in /usr/local/lib/python3.10/dist-packages (from rich->keras) (3.0.0)\n",
            "Requirement already satisfied: pygments<3.0.0,>=2.13.0 in /usr/local/lib/python3.10/dist-packages (from rich->keras) (2.18.0)\n",
            "Requirement already satisfied: mdurl~=0.1 in /usr/local/lib/python3.10/dist-packages (from markdown-it-py>=2.2.0->rich->keras) (0.1.2)\n"
          ]
        }
      ]
    },
    {
      "cell_type": "code",
      "source": [
        "from google.colab import drive\n",
        "drive.mount('/content/drive')"
      ],
      "metadata": {
        "colab": {
          "base_uri": "https://localhost:8080/"
        },
        "id": "8wBCu90Q4GOe",
        "outputId": "84a06d94-ec33-43ec-f6f7-e509767e75a5"
      },
      "execution_count": 10,
      "outputs": [
        {
          "output_type": "stream",
          "name": "stdout",
          "text": [
            "Drive already mounted at /content/drive; to attempt to forcibly remount, call drive.mount(\"/content/drive\", force_remount=True).\n"
          ]
        }
      ]
    },
    {
      "cell_type": "code",
      "execution_count": 11,
      "metadata": {
        "id": "PqJUcPp0lCL6"
      },
      "outputs": [],
      "source": [
        "import pandas as pd\n",
        "import numpy as np\n",
        "from sklearn.model_selection import train_test_split\n",
        "from sklearn.preprocessing import MinMaxScaler\n",
        "from keras.models import Sequential\n",
        "from keras.layers import Dense\n",
        "import matplotlib.pyplot as plt\n",
        "from sklearn.feature_selection import VarianceThreshold\n",
        "from sklearn.decomposition import PCA\n",
        "from sklearn.metrics import classification_report"
      ]
    },
    {
      "cell_type": "code",
      "source": [
        "# Load the dataset\n",
        "data = pd.read_csv('/content/drive/MyDrive/CICDataset/cicddos2019_dataset.csv')\n",
        "\n",
        "\n",
        "data = data.drop(columns=['Flow ID', 'Source IP', 'Destination IP', 'Timestamp', 'Label'], errors='ignore')\n",
        "\n",
        "# data[\"Class\"]\n",
        "# Label Encoding: Convert BENIGN and DDoS into binary labels (0 for BENIGN, 1 for DDoS)\n",
        "labels = (data['Class'] != 'Benign').astype(int)  # DDoS = 1, BENIGN = 0\n",
        "\n",
        "data[\"Labels\"] = labels\n",
        "\n",
        "# Drop the Label column after encoding\n",
        "data = data.drop(columns=['Class'], errors='ignore')\n",
        "\n",
        "\n",
        "# Handle missing values by replacing them with zeros\n",
        "data.fillna(0, inplace=True)\n",
        "\n",
        "# remove columns with 0 variance\n",
        "selector = VarianceThreshold(threshold=0)\n",
        "data_var = selector.fit_transform(data)\n",
        "data = pd.DataFrame(data_var, columns=data.columns[selector.get_support(indices=True)])\n",
        "print(data.var())\n",
        "\n",
        "# Normalize the dataset using MinMaxScaler\n",
        "scaler = MinMaxScaler()\n",
        "data_scaled = scaler.fit_transform(data)\n",
        "\n",
        "# Split the data into normal (BENIGN) and DDoS attack data\n",
        "X_normal = data_scaled[labels == 0]\n",
        "X_ddos = data_scaled[labels == 1]\n",
        "\n",
        "# Train-test split (Train the model only on normal traffic data)\n",
        "X_train, X_test = train_test_split(X_normal, test_size=0.2, random_state=42)\n"
      ],
      "metadata": {
        "colab": {
          "base_uri": "https://localhost:8080/"
        },
        "id": "0gMeTicSmBFh",
        "outputId": "f694ba12-7eee-4fd5-90e7-aaddbc8105fb"
      },
      "execution_count": 12,
      "outputs": [
        {
          "output_type": "stream",
          "name": "stdout",
          "text": [
            "Unnamed: 0                7.612495e+09\n",
            "Protocol                  2.466823e+01\n",
            "Flow Duration             4.522411e+14\n",
            "Total Fwd Packets         3.837246e+04\n",
            "Total Backward Packets    3.177600e+03\n",
            "                              ...     \n",
            "Idle Mean                 6.263155e+13\n",
            "Idle Std                  4.020685e+12\n",
            "Idle Max                  8.181794e+13\n",
            "Idle Min                  5.249815e+13\n",
            "Labels                    1.753572e-01\n",
            "Length: 67, dtype: float64\n"
          ]
        }
      ]
    },
    {
      "cell_type": "code",
      "source": [
        "'''\n",
        "input_dim: This determines the number of features in the input data (X_train). The autoencoder will take data with this number of features as input.\n",
        "encoding_dim: This is the size of the first encoded layer, which will compress the input data into a lower-dimensional representation.\n",
        "\n",
        "'''\n",
        "input_dim = X_train.shape[1]\n",
        "encoding_dim = 16\n",
        "\n",
        "\n",
        "'''\n",
        "autoencoder.add(Dense(encoding_dim, activation=\"relu\", input_shape=(input_dim,))):\n",
        "    This is the first layer, which maps the input to the compressed layer.\n",
        "    It has encoding_dim neurons (16 in this case) and uses the ReLU activation function to introduce non-linearity.\n",
        "\n",
        "autoencoder.add(Dense(int(encoding_dim / 2), activation=\"relu\")):\n",
        "    This layer further reduces the dimensionality. It has int(encoding_dim / 2)\n",
        "\n",
        "autoencoder.add(Dense(int(encoding_dim / 4), activation=\"relu\")):\n",
        "    This is the smallest layer, with int(encoding_dim / 4) neurons (4 neurons here).\n",
        "    It represents the \"bottleneck\" where the input is compressed into a much smaller latent space.\n",
        "\n",
        "Output Layer:\n",
        "autoencoder.add(Dense(input_dim, activation=\"sigmoid\")):\n",
        "    This layer reconstructs the output to match the original input dimensionality (input_dim).\n",
        "    The sigmoid activation function is used to constrain the output values between 0 and 1,\n",
        "    which is common when working with normalized data.\n",
        "'''\n",
        "autoencoder = Sequential()\n",
        "autoencoder.add(Dense(encoding_dim, activation=\"relu\", input_shape=(input_dim,)))\n",
        "autoencoder.add(Dense(int(encoding_dim / 2), activation=\"relu\"))\n",
        "autoencoder.add(Dense(int(encoding_dim / 4), activation=\"relu\"))\n",
        "autoencoder.add(Dense(int(encoding_dim / 2), activation=\"relu\"))\n",
        "autoencoder.add(Dense(encoding_dim, activation=\"relu\"))\n",
        "autoencoder.add(Dense(input_dim, activation=\"sigmoid\"))\n",
        "\n",
        "autoencoder.compile(optimizer='adam', loss='mean_squared_error')\n",
        "\n",
        "# Train the autoencoder\n",
        "history = autoencoder.fit(X_train, X_train, epochs=50, batch_size=32, validation_split=0.2, shuffle=True)\n",
        "\n"
      ],
      "metadata": {
        "colab": {
          "base_uri": "https://localhost:8080/"
        },
        "id": "RtBIpJXuncf-",
        "outputId": "0030d185-52d2-45f1-98c5-050976ae877c"
      },
      "execution_count": 13,
      "outputs": [
        {
          "output_type": "stream",
          "name": "stderr",
          "text": [
            "/usr/local/lib/python3.10/dist-packages/keras/src/layers/core/dense.py:87: UserWarning: Do not pass an `input_shape`/`input_dim` argument to a layer. When using Sequential models, prefer using an `Input(shape)` object as the first layer in the model instead.\n",
            "  super().__init__(activity_regularizer=activity_regularizer, **kwargs)\n"
          ]
        },
        {
          "output_type": "stream",
          "name": "stdout",
          "text": [
            "Epoch 1/50\n",
            "\u001b[1m1957/1957\u001b[0m \u001b[32m━━━━━━━━━━━━━━━━━━━━\u001b[0m\u001b[37m\u001b[0m \u001b[1m11s\u001b[0m 3ms/step - loss: 0.0396 - val_loss: 0.0039\n",
            "Epoch 2/50\n",
            "\u001b[1m1957/1957\u001b[0m \u001b[32m━━━━━━━━━━━━━━━━━━━━\u001b[0m\u001b[37m\u001b[0m \u001b[1m5s\u001b[0m 2ms/step - loss: 0.0035 - val_loss: 0.0026\n",
            "Epoch 3/50\n",
            "\u001b[1m1957/1957\u001b[0m \u001b[32m━━━━━━━━━━━━━━━━━━━━\u001b[0m\u001b[37m\u001b[0m \u001b[1m4s\u001b[0m 2ms/step - loss: 0.0024 - val_loss: 0.0021\n",
            "Epoch 4/50\n",
            "\u001b[1m1957/1957\u001b[0m \u001b[32m━━━━━━━━━━━━━━━━━━━━\u001b[0m\u001b[37m\u001b[0m \u001b[1m5s\u001b[0m 2ms/step - loss: 0.0020 - val_loss: 0.0019\n",
            "Epoch 5/50\n",
            "\u001b[1m1957/1957\u001b[0m \u001b[32m━━━━━━━━━━━━━━━━━━━━\u001b[0m\u001b[37m\u001b[0m \u001b[1m6s\u001b[0m 2ms/step - loss: 0.0019 - val_loss: 0.0018\n",
            "Epoch 6/50\n",
            "\u001b[1m1957/1957\u001b[0m \u001b[32m━━━━━━━━━━━━━━━━━━━━\u001b[0m\u001b[37m\u001b[0m \u001b[1m4s\u001b[0m 2ms/step - loss: 0.0017 - val_loss: 0.0017\n",
            "Epoch 7/50\n",
            "\u001b[1m1957/1957\u001b[0m \u001b[32m━━━━━━━━━━━━━━━━━━━━\u001b[0m\u001b[37m\u001b[0m \u001b[1m5s\u001b[0m 2ms/step - loss: 0.0016 - val_loss: 0.0017\n",
            "Epoch 8/50\n",
            "\u001b[1m1957/1957\u001b[0m \u001b[32m━━━━━━━━━━━━━━━━━━━━\u001b[0m\u001b[37m\u001b[0m \u001b[1m5s\u001b[0m 2ms/step - loss: 0.0016 - val_loss: 0.0015\n",
            "Epoch 9/50\n",
            "\u001b[1m1957/1957\u001b[0m \u001b[32m━━━━━━━━━━━━━━━━━━━━\u001b[0m\u001b[37m\u001b[0m \u001b[1m4s\u001b[0m 2ms/step - loss: 0.0015 - val_loss: 0.0014\n",
            "Epoch 10/50\n",
            "\u001b[1m1957/1957\u001b[0m \u001b[32m━━━━━━━━━━━━━━━━━━━━\u001b[0m\u001b[37m\u001b[0m \u001b[1m4s\u001b[0m 2ms/step - loss: 0.0013 - val_loss: 0.0013\n",
            "Epoch 11/50\n",
            "\u001b[1m1957/1957\u001b[0m \u001b[32m━━━━━━━━━━━━━━━━━━━━\u001b[0m\u001b[37m\u001b[0m \u001b[1m4s\u001b[0m 2ms/step - loss: 0.0013 - val_loss: 0.0013\n",
            "Epoch 12/50\n",
            "\u001b[1m1957/1957\u001b[0m \u001b[32m━━━━━━━━━━━━━━━━━━━━\u001b[0m\u001b[37m\u001b[0m \u001b[1m4s\u001b[0m 2ms/step - loss: 0.0012 - val_loss: 0.0013\n",
            "Epoch 13/50\n",
            "\u001b[1m1957/1957\u001b[0m \u001b[32m━━━━━━━━━━━━━━━━━━━━\u001b[0m\u001b[37m\u001b[0m \u001b[1m4s\u001b[0m 2ms/step - loss: 0.0012 - val_loss: 0.0013\n",
            "Epoch 14/50\n",
            "\u001b[1m1957/1957\u001b[0m \u001b[32m━━━━━━━━━━━━━━━━━━━━\u001b[0m\u001b[37m\u001b[0m \u001b[1m6s\u001b[0m 2ms/step - loss: 0.0012 - val_loss: 0.0013\n",
            "Epoch 15/50\n",
            "\u001b[1m1957/1957\u001b[0m \u001b[32m━━━━━━━━━━━━━━━━━━━━\u001b[0m\u001b[37m\u001b[0m \u001b[1m4s\u001b[0m 2ms/step - loss: 0.0012 - val_loss: 0.0012\n",
            "Epoch 16/50\n",
            "\u001b[1m1957/1957\u001b[0m \u001b[32m━━━━━━━━━━━━━━━━━━━━\u001b[0m\u001b[37m\u001b[0m \u001b[1m5s\u001b[0m 2ms/step - loss: 0.0012 - val_loss: 0.0012\n",
            "Epoch 17/50\n",
            "\u001b[1m1957/1957\u001b[0m \u001b[32m━━━━━━━━━━━━━━━━━━━━\u001b[0m\u001b[37m\u001b[0m \u001b[1m9s\u001b[0m 4ms/step - loss: 0.0012 - val_loss: 0.0012\n",
            "Epoch 18/50\n",
            "\u001b[1m1957/1957\u001b[0m \u001b[32m━━━━━━━━━━━━━━━━━━━━\u001b[0m\u001b[37m\u001b[0m \u001b[1m5s\u001b[0m 2ms/step - loss: 0.0012 - val_loss: 0.0012\n",
            "Epoch 19/50\n",
            "\u001b[1m1957/1957\u001b[0m \u001b[32m━━━━━━━━━━━━━━━━━━━━\u001b[0m\u001b[37m\u001b[0m \u001b[1m4s\u001b[0m 2ms/step - loss: 0.0012 - val_loss: 0.0012\n",
            "Epoch 20/50\n",
            "\u001b[1m1957/1957\u001b[0m \u001b[32m━━━━━━━━━━━━━━━━━━━━\u001b[0m\u001b[37m\u001b[0m \u001b[1m5s\u001b[0m 2ms/step - loss: 0.0012 - val_loss: 0.0012\n",
            "Epoch 21/50\n",
            "\u001b[1m1957/1957\u001b[0m \u001b[32m━━━━━━━━━━━━━━━━━━━━\u001b[0m\u001b[37m\u001b[0m \u001b[1m4s\u001b[0m 2ms/step - loss: 0.0012 - val_loss: 0.0012\n",
            "Epoch 22/50\n",
            "\u001b[1m1957/1957\u001b[0m \u001b[32m━━━━━━━━━━━━━━━━━━━━\u001b[0m\u001b[37m\u001b[0m \u001b[1m4s\u001b[0m 2ms/step - loss: 0.0011 - val_loss: 0.0012\n",
            "Epoch 23/50\n",
            "\u001b[1m1957/1957\u001b[0m \u001b[32m━━━━━━━━━━━━━━━━━━━━\u001b[0m\u001b[37m\u001b[0m \u001b[1m6s\u001b[0m 2ms/step - loss: 0.0012 - val_loss: 0.0012\n",
            "Epoch 24/50\n",
            "\u001b[1m1957/1957\u001b[0m \u001b[32m━━━━━━━━━━━━━━━━━━━━\u001b[0m\u001b[37m\u001b[0m \u001b[1m4s\u001b[0m 2ms/step - loss: 0.0011 - val_loss: 0.0012\n",
            "Epoch 25/50\n",
            "\u001b[1m1957/1957\u001b[0m \u001b[32m━━━━━━━━━━━━━━━━━━━━\u001b[0m\u001b[37m\u001b[0m \u001b[1m4s\u001b[0m 2ms/step - loss: 0.0012 - val_loss: 0.0012\n",
            "Epoch 26/50\n",
            "\u001b[1m1957/1957\u001b[0m \u001b[32m━━━━━━━━━━━━━━━━━━━━\u001b[0m\u001b[37m\u001b[0m \u001b[1m6s\u001b[0m 2ms/step - loss: 0.0011 - val_loss: 0.0012\n",
            "Epoch 27/50\n",
            "\u001b[1m1957/1957\u001b[0m \u001b[32m━━━━━━━━━━━━━━━━━━━━\u001b[0m\u001b[37m\u001b[0m \u001b[1m4s\u001b[0m 2ms/step - loss: 0.0011 - val_loss: 0.0012\n",
            "Epoch 28/50\n",
            "\u001b[1m1957/1957\u001b[0m \u001b[32m━━━━━━━━━━━━━━━━━━━━\u001b[0m\u001b[37m\u001b[0m \u001b[1m4s\u001b[0m 2ms/step - loss: 0.0011 - val_loss: 0.0012\n",
            "Epoch 29/50\n",
            "\u001b[1m1957/1957\u001b[0m \u001b[32m━━━━━━━━━━━━━━━━━━━━\u001b[0m\u001b[37m\u001b[0m \u001b[1m5s\u001b[0m 2ms/step - loss: 0.0011 - val_loss: 0.0012\n",
            "Epoch 30/50\n",
            "\u001b[1m1957/1957\u001b[0m \u001b[32m━━━━━━━━━━━━━━━━━━━━\u001b[0m\u001b[37m\u001b[0m \u001b[1m4s\u001b[0m 2ms/step - loss: 0.0011 - val_loss: 0.0011\n",
            "Epoch 31/50\n",
            "\u001b[1m1957/1957\u001b[0m \u001b[32m━━━━━━━━━━━━━━━━━━━━\u001b[0m\u001b[37m\u001b[0m \u001b[1m4s\u001b[0m 2ms/step - loss: 0.0011 - val_loss: 0.0011\n",
            "Epoch 32/50\n",
            "\u001b[1m1957/1957\u001b[0m \u001b[32m━━━━━━━━━━━━━━━━━━━━\u001b[0m\u001b[37m\u001b[0m \u001b[1m5s\u001b[0m 3ms/step - loss: 0.0011 - val_loss: 0.0011\n",
            "Epoch 33/50\n",
            "\u001b[1m1957/1957\u001b[0m \u001b[32m━━━━━━━━━━━━━━━━━━━━\u001b[0m\u001b[37m\u001b[0m \u001b[1m4s\u001b[0m 2ms/step - loss: 0.0011 - val_loss: 0.0011\n",
            "Epoch 34/50\n",
            "\u001b[1m1957/1957\u001b[0m \u001b[32m━━━━━━━━━━━━━━━━━━━━\u001b[0m\u001b[37m\u001b[0m \u001b[1m5s\u001b[0m 2ms/step - loss: 0.0011 - val_loss: 0.0011\n",
            "Epoch 35/50\n",
            "\u001b[1m1957/1957\u001b[0m \u001b[32m━━━━━━━━━━━━━━━━━━━━\u001b[0m\u001b[37m\u001b[0m \u001b[1m6s\u001b[0m 2ms/step - loss: 0.0011 - val_loss: 0.0011\n",
            "Epoch 36/50\n",
            "\u001b[1m1957/1957\u001b[0m \u001b[32m━━━━━━━━━━━━━━━━━━━━\u001b[0m\u001b[37m\u001b[0m \u001b[1m4s\u001b[0m 2ms/step - loss: 0.0011 - val_loss: 0.0011\n",
            "Epoch 37/50\n",
            "\u001b[1m1957/1957\u001b[0m \u001b[32m━━━━━━━━━━━━━━━━━━━━\u001b[0m\u001b[37m\u001b[0m \u001b[1m6s\u001b[0m 2ms/step - loss: 0.0011 - val_loss: 0.0011\n",
            "Epoch 38/50\n",
            "\u001b[1m1957/1957\u001b[0m \u001b[32m━━━━━━━━━━━━━━━━━━━━\u001b[0m\u001b[37m\u001b[0m \u001b[1m4s\u001b[0m 2ms/step - loss: 0.0011 - val_loss: 0.0011\n",
            "Epoch 39/50\n",
            "\u001b[1m1957/1957\u001b[0m \u001b[32m━━━━━━━━━━━━━━━━━━━━\u001b[0m\u001b[37m\u001b[0m \u001b[1m5s\u001b[0m 2ms/step - loss: 0.0011 - val_loss: 0.0011\n",
            "Epoch 40/50\n",
            "\u001b[1m1957/1957\u001b[0m \u001b[32m━━━━━━━━━━━━━━━━━━━━\u001b[0m\u001b[37m\u001b[0m \u001b[1m6s\u001b[0m 3ms/step - loss: 0.0011 - val_loss: 0.0011\n",
            "Epoch 41/50\n",
            "\u001b[1m1957/1957\u001b[0m \u001b[32m━━━━━━━━━━━━━━━━━━━━\u001b[0m\u001b[37m\u001b[0m \u001b[1m4s\u001b[0m 2ms/step - loss: 0.0011 - val_loss: 0.0011\n",
            "Epoch 42/50\n",
            "\u001b[1m1957/1957\u001b[0m \u001b[32m━━━━━━━━━━━━━━━━━━━━\u001b[0m\u001b[37m\u001b[0m \u001b[1m4s\u001b[0m 2ms/step - loss: 0.0011 - val_loss: 0.0011\n",
            "Epoch 43/50\n",
            "\u001b[1m1957/1957\u001b[0m \u001b[32m━━━━━━━━━━━━━━━━━━━━\u001b[0m\u001b[37m\u001b[0m \u001b[1m7s\u001b[0m 3ms/step - loss: 0.0011 - val_loss: 0.0011\n",
            "Epoch 44/50\n",
            "\u001b[1m1957/1957\u001b[0m \u001b[32m━━━━━━━━━━━━━━━━━━━━\u001b[0m\u001b[37m\u001b[0m \u001b[1m4s\u001b[0m 2ms/step - loss: 0.0011 - val_loss: 0.0011\n",
            "Epoch 45/50\n",
            "\u001b[1m1957/1957\u001b[0m \u001b[32m━━━━━━━━━━━━━━━━━━━━\u001b[0m\u001b[37m\u001b[0m \u001b[1m5s\u001b[0m 2ms/step - loss: 0.0011 - val_loss: 0.0011\n",
            "Epoch 46/50\n",
            "\u001b[1m1957/1957\u001b[0m \u001b[32m━━━━━━━━━━━━━━━━━━━━\u001b[0m\u001b[37m\u001b[0m \u001b[1m6s\u001b[0m 2ms/step - loss: 0.0011 - val_loss: 0.0012\n",
            "Epoch 47/50\n",
            "\u001b[1m1957/1957\u001b[0m \u001b[32m━━━━━━━━━━━━━━━━━━━━\u001b[0m\u001b[37m\u001b[0m \u001b[1m4s\u001b[0m 2ms/step - loss: 0.0011 - val_loss: 0.0011\n",
            "Epoch 48/50\n",
            "\u001b[1m1957/1957\u001b[0m \u001b[32m━━━━━━━━━━━━━━━━━━━━\u001b[0m\u001b[37m\u001b[0m \u001b[1m4s\u001b[0m 2ms/step - loss: 0.0011 - val_loss: 0.0011\n",
            "Epoch 49/50\n",
            "\u001b[1m1957/1957\u001b[0m \u001b[32m━━━━━━━━━━━━━━━━━━━━\u001b[0m\u001b[37m\u001b[0m \u001b[1m5s\u001b[0m 3ms/step - loss: 0.0011 - val_loss: 0.0011\n",
            "Epoch 50/50\n",
            "\u001b[1m1957/1957\u001b[0m \u001b[32m━━━━━━━━━━━━━━━━━━━━\u001b[0m\u001b[37m\u001b[0m \u001b[1m4s\u001b[0m 2ms/step - loss: 0.0010 - val_loss: 0.0011\n"
          ]
        }
      ]
    },
    {
      "cell_type": "code",
      "source": [
        "# Plot training loss\n",
        "plt.plot(history.history['loss'], label='Train Loss')\n",
        "plt.plot(history.history['val_loss'], label='Validation Loss')\n",
        "plt.legend()\n",
        "plt.show()"
      ],
      "metadata": {
        "colab": {
          "base_uri": "https://localhost:8080/",
          "height": 430
        },
        "id": "bWf8HCpDnjbY",
        "outputId": "ffbee27f-23d6-4a46-c66e-402e7950a7fb"
      },
      "execution_count": 14,
      "outputs": [
        {
          "output_type": "display_data",
          "data": {
            "text/plain": [
              "<Figure size 640x480 with 1 Axes>"
            ],
            "image/png": "[encoded data removed]"
          },
          "metadata": {}
        }
      ]
    },
    {
      "cell_type": "code",
      "source": [
        "# Use the autoencoder to reconstruct the test data\n",
        "X_test_pred = autoencoder.predict(X_test)\n",
        "X_test_mse = np.mean(np.power(X_test - X_test_pred, 2), axis=1)\n",
        "\n",
        "# Set a threshold for classification (based on reconstruction error on normal data)\n",
        "threshold = np.percentile(X_test_mse, 95)\n",
        "print(f\"Reconstruction error threshold: {threshold}\")\n",
        "\n",
        "# Test the model on both normal and DDoS data\n",
        "X_ddos_pred = autoencoder.predict(X_ddos)\n",
        "X_ddos_mse = np.mean(np.power(X_ddos - X_ddos_pred, 2), axis=1)\n",
        "\n",
        "# Classify based on the reconstruction error\n",
        "y_test_pred = X_test_mse > threshold\n",
        "y_ddos_pred = X_ddos_mse > threshold\n",
        "\n",
        "# Print results\n",
        "print(f\"Normal Traffic Detection Accuracy: {100 - np.mean(y_test_pred) * 100:.2f}%\")\n",
        "print(f\"DDoS Attack Detection Accuracy: {np.mean(y_ddos_pred) * 100:.2f}%\")\n",
        "\n",
        "y_true = np.concatenate([np.zeros(len(X_test)), np.ones(len(X_ddos))])\n",
        "y_pred = np.concatenate([y_test_pred, y_ddos_pred])\n",
        "\n",
        "print(classification_report(y_true, y_pred, target_names=[\"BENIGN\", \"DDoS\"]))\n"
      ],
      "metadata": {
        "colab": {
          "base_uri": "https://localhost:8080/"
        },
        "id": "L88yDxmBnmz9",
        "outputId": "99ea6bf8-e911-4672-b54c-c69fb41906ce"
      },
      "execution_count": 15,
      "outputs": [
        {
          "output_type": "stream",
          "name": "stdout",
          "text": [
            "\u001b[1m612/612\u001b[0m \u001b[32m━━━━━━━━━━━━━━━━━━━━\u001b[0m\u001b[37m\u001b[0m \u001b[1m1s\u001b[0m 2ms/step\n",
            "Reconstruction error threshold: 0.004754539695120089\n",
            "\u001b[1m10424/10424\u001b[0m \u001b[32m━━━━━━━━━━━━━━━━━━━━\u001b[0m\u001b[37m\u001b[0m \u001b[1m14s\u001b[0m 1ms/step\n",
            "Normal Traffic Detection Accuracy: 95.00%\n",
            "DDoS Attack Detection Accuracy: 100.00%\n",
            "              precision    recall  f1-score   support\n",
            "\n",
            "      BENIGN       1.00      0.95      0.97     19567\n",
            "        DDoS       1.00      1.00      1.00    333540\n",
            "\n",
            "    accuracy                           1.00    353107\n",
            "   macro avg       1.00      0.97      0.99    353107\n",
            "weighted avg       1.00      1.00      1.00    353107\n",
            "\n"
          ]
        }
      ]
    },
    {
      "cell_type": "code",
      "source": [],
      "metadata": {
        "id": "SLVlYfk7vcOT"
      },
      "execution_count": null,
      "outputs": []
    }
  ]
}